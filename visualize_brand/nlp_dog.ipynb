{
 "cells": [
  {
   "cell_type": "code",
   "execution_count": 2,
   "id": "2c0f1811",
   "metadata": {},
   "outputs": [
    {
     "name": "stdout",
     "output_type": "stream",
     "text": [
      "Collecting nltk\n",
      "  Using cached nltk-3.6.7-py3-none-any.whl (1.5 MB)\n",
      "Requirement already satisfied: click in c:\\users\\lenovo\\.conda\\envs\\oc\\lib\\site-packages (from nltk) (8.0.4)\n",
      "Note: you may need to restart the kernel to use updated packages.\n",
      "Requirement already satisfied: joblib in c:\\users\\lenovo\\.conda\\envs\\oc\\lib\\site-packages (from nltk) (1.1.0)\n",
      "Requirement already satisfied: tqdm in c:\\users\\lenovo\\.conda\\envs\\oc\\lib\\site-packages (from nltk) (4.64.0)\n",
      "Collecting regex>=2021.8.3\n",
      "  Using cached regex-2022.10.31-cp36-cp36m-win_amd64.whl (279 kB)\n",
      "Requirement already satisfied: colorama in c:\\users\\lenovo\\.conda\\envs\\oc\\lib\\site-packages (from click->nltk) (0.4.4)\n",
      "Requirement already satisfied: importlib-metadata in c:\\users\\lenovo\\.conda\\envs\\oc\\lib\\site-packages (from click->nltk) (4.2.0)\n",
      "Requirement already satisfied: typing-extensions>=3.6.4 in c:\\users\\lenovo\\.conda\\envs\\oc\\lib\\site-packages (from importlib-metadata->click->nltk) (4.1.1)\n",
      "Requirement already satisfied: zipp>=0.5 in c:\\users\\lenovo\\.conda\\envs\\oc\\lib\\site-packages (from importlib-metadata->click->nltk) (3.6.0)\n",
      "Requirement already satisfied: importlib-resources in c:\\users\\lenovo\\.conda\\envs\\oc\\lib\\site-packages (from tqdm->nltk) (5.4.0)\n",
      "Installing collected packages: regex, nltk\n",
      "Successfully installed nltk-3.6.7 regex-2022.10.31\n"
     ]
    }
   ],
   "source": [
    "pip install nltk"
   ]
  },
  {
   "cell_type": "code",
   "execution_count": 82,
   "id": "aa3626df",
   "metadata": {},
   "outputs": [],
   "source": [
    "#from nltk.tokenize import word_tokenize"
   ]
  },
  {
   "cell_type": "code",
   "execution_count": 83,
   "id": "32a68e56",
   "metadata": {},
   "outputs": [],
   "source": [
    "#text = \"Blue-Buffalo Life Protection Formula Natural Puppy Dry Dog Food\"\n",
    "#print(word_tokenize(text))"
   ]
  },
  {
   "cell_type": "code",
   "execution_count": 84,
   "id": "9117fa19",
   "metadata": {},
   "outputs": [],
   "source": [
    "#item =[\"Blue Buffalo Life Protection Formula Natural Puppy Dry Dog Food\",\"Purina Pro Plan High Protein, Digestive Health Large Breed Dry Dog Food, Chicken and Rice Formula - 34 lb. Bag\"\n",
    "#,\"Purina ONE Natural Dry Dog Food, SmartBlend Chicken & Rice Formula - 31.1 lb. Bag\"]\n",
    "#words= ['Blue','Buffalo','Purina','Pro','ONE'] \n",
    "\n",
    "#item2 = [\" \".join([w for w in t.split()]) for t in item]\n",
    "\n",
    "#print(item2)"
   ]
  },
  {
   "cell_type": "code",
   "execution_count": 112,
   "id": "57a489ab",
   "metadata": {},
   "outputs": [],
   "source": [
    "import pandas as pd\n",
    "import numpy as np\n",
    "df = pd.read_csv('results.csv')"
   ]
  },
  {
   "cell_type": "code",
   "execution_count": 113,
   "id": "fbc9f9f1",
   "metadata": {
    "scrolled": true
   },
   "outputs": [
    {
     "data": {
      "text/html": [
       "<div>\n",
       "<style scoped>\n",
       "    .dataframe tbody tr th:only-of-type {\n",
       "        vertical-align: middle;\n",
       "    }\n",
       "\n",
       "    .dataframe tbody tr th {\n",
       "        vertical-align: top;\n",
       "    }\n",
       "\n",
       "    .dataframe thead th {\n",
       "        text-align: right;\n",
       "    }\n",
       "</style>\n",
       "<table border=\"1\" class=\"dataframe\">\n",
       "  <thead>\n",
       "    <tr style=\"text-align: right;\">\n",
       "      <th></th>\n",
       "      <th>Description</th>\n",
       "      <th>Rating</th>\n",
       "      <th>ReviewCount</th>\n",
       "      <th>Url</th>\n",
       "    </tr>\n",
       "  </thead>\n",
       "  <tbody>\n",
       "    <tr>\n",
       "      <th>0</th>\n",
       "      <td>HOLI Freeze Dried Salmon Dog Food Topper - wit...</td>\n",
       "      <td>4.3 out of 5 stars</td>\n",
       "      <td>206</td>\n",
       "      <td>https://amazon.com/sspa/click?ie=UTF8&amp;spc=MToy...</td>\n",
       "    </tr>\n",
       "    <tr>\n",
       "      <th>1</th>\n",
       "      <td>Blue Buffalo Life Protection Formula Natural A...</td>\n",
       "      <td>4.7 out of 5 stars</td>\n",
       "      <td>21,746</td>\n",
       "      <td>https://amazon.com/Blue-Buffalo-Protection-For...</td>\n",
       "    </tr>\n",
       "    <tr>\n",
       "      <th>2</th>\n",
       "      <td>Purina Pro Plan High Protein Dog Food With Pro...</td>\n",
       "      <td>4.7 out of 5 stars</td>\n",
       "      <td>16,618</td>\n",
       "      <td>https://amazon.com/Purina-Pro-Plan-Shredded-Ch...</td>\n",
       "    </tr>\n",
       "    <tr>\n",
       "      <th>3</th>\n",
       "      <td>Purina ONE Natural Dry Dog Food, SmartBlend La...</td>\n",
       "      <td>4.7 out of 5 stars</td>\n",
       "      <td>13,205</td>\n",
       "      <td>https://amazon.com/Purina-Smartblend-Natural-F...</td>\n",
       "    </tr>\n",
       "    <tr>\n",
       "      <th>4</th>\n",
       "      <td>Royal Canin Small Breed Adult Dry Dog Food, 14...</td>\n",
       "      <td>4.8 out of 5 stars</td>\n",
       "      <td>9,704</td>\n",
       "      <td>https://amazon.com/Royal-Canin-Health-Nutritio...</td>\n",
       "    </tr>\n",
       "    <tr>\n",
       "      <th>...</th>\n",
       "      <td>...</td>\n",
       "      <td>...</td>\n",
       "      <td>...</td>\n",
       "      <td>...</td>\n",
       "    </tr>\n",
       "    <tr>\n",
       "      <th>645</th>\n",
       "      <td>Purina ONE SmartBlend Natural Healthy Weight F...</td>\n",
       "      <td>4.7 out of 5 stars</td>\n",
       "      <td>13,596</td>\n",
       "      <td>https://amazon.com/Purina-Smartblend-Natural-H...</td>\n",
       "    </tr>\n",
       "    <tr>\n",
       "      <th>646</th>\n",
       "      <td>Wellness Complete Health Dry Dog Food with Gra...</td>\n",
       "      <td>4.6 out of 5 stars</td>\n",
       "      <td>7,197</td>\n",
       "      <td>https://amazon.com/Wellness-Complete-Natural-F...</td>\n",
       "    </tr>\n",
       "    <tr>\n",
       "      <th>647</th>\n",
       "      <td>VICTOR Super Premium Dog Food – Hi-Pro Plus Dr...</td>\n",
       "      <td>4.7 out of 5 stars</td>\n",
       "      <td>9,447</td>\n",
       "      <td>https://amazon.com/VICTOR-Super-Premium-Dog-Fo...</td>\n",
       "    </tr>\n",
       "    <tr>\n",
       "      <th>648</th>\n",
       "      <td>Blue Buffalo Life Protection Formula Natural S...</td>\n",
       "      <td>4.7 out of 5 stars</td>\n",
       "      <td>8,334</td>\n",
       "      <td>https://amazon.com/Blue-Buffalo-Protection-For...</td>\n",
       "    </tr>\n",
       "    <tr>\n",
       "      <th>649</th>\n",
       "      <td>Blue Buffalo Life Protection Formula Natural P...</td>\n",
       "      <td>4.6 out of 5 stars</td>\n",
       "      <td>9,918</td>\n",
       "      <td>https://amazon.com/Blue-Buffalo-Protection-For...</td>\n",
       "    </tr>\n",
       "  </tbody>\n",
       "</table>\n",
       "<p>650 rows × 4 columns</p>\n",
       "</div>"
      ],
      "text/plain": [
       "                                           Description              Rating  \\\n",
       "0    HOLI Freeze Dried Salmon Dog Food Topper - wit...  4.3 out of 5 stars   \n",
       "1    Blue Buffalo Life Protection Formula Natural A...  4.7 out of 5 stars   \n",
       "2    Purina Pro Plan High Protein Dog Food With Pro...  4.7 out of 5 stars   \n",
       "3    Purina ONE Natural Dry Dog Food, SmartBlend La...  4.7 out of 5 stars   \n",
       "4    Royal Canin Small Breed Adult Dry Dog Food, 14...  4.8 out of 5 stars   \n",
       "..                                                 ...                 ...   \n",
       "645  Purina ONE SmartBlend Natural Healthy Weight F...  4.7 out of 5 stars   \n",
       "646  Wellness Complete Health Dry Dog Food with Gra...  4.6 out of 5 stars   \n",
       "647  VICTOR Super Premium Dog Food – Hi-Pro Plus Dr...  4.7 out of 5 stars   \n",
       "648  Blue Buffalo Life Protection Formula Natural S...  4.7 out of 5 stars   \n",
       "649  Blue Buffalo Life Protection Formula Natural P...  4.6 out of 5 stars   \n",
       "\n",
       "    ReviewCount                                                Url  \n",
       "0           206  https://amazon.com/sspa/click?ie=UTF8&spc=MToy...  \n",
       "1        21,746  https://amazon.com/Blue-Buffalo-Protection-For...  \n",
       "2        16,618  https://amazon.com/Purina-Pro-Plan-Shredded-Ch...  \n",
       "3        13,205  https://amazon.com/Purina-Smartblend-Natural-F...  \n",
       "4         9,704  https://amazon.com/Royal-Canin-Health-Nutritio...  \n",
       "..          ...                                                ...  \n",
       "645      13,596  https://amazon.com/Purina-Smartblend-Natural-H...  \n",
       "646       7,197  https://amazon.com/Wellness-Complete-Natural-F...  \n",
       "647       9,447  https://amazon.com/VICTOR-Super-Premium-Dog-Fo...  \n",
       "648       8,334  https://amazon.com/Blue-Buffalo-Protection-For...  \n",
       "649       9,918  https://amazon.com/Blue-Buffalo-Protection-For...  \n",
       "\n",
       "[650 rows x 4 columns]"
      ]
     },
     "execution_count": 113,
     "metadata": {},
     "output_type": "execute_result"
    }
   ],
   "source": [
    "df = pd.DataFrame(df)\n",
    "df"
   ]
  },
  {
   "cell_type": "code",
   "execution_count": 114,
   "id": "97bd5fc0",
   "metadata": {},
   "outputs": [
    {
     "data": {
      "text/html": [
       "<div>\n",
       "<style scoped>\n",
       "    .dataframe tbody tr th:only-of-type {\n",
       "        vertical-align: middle;\n",
       "    }\n",
       "\n",
       "    .dataframe tbody tr th {\n",
       "        vertical-align: top;\n",
       "    }\n",
       "\n",
       "    .dataframe thead th {\n",
       "        text-align: right;\n",
       "    }\n",
       "</style>\n",
       "<table border=\"1\" class=\"dataframe\">\n",
       "  <thead>\n",
       "    <tr style=\"text-align: right;\">\n",
       "      <th></th>\n",
       "      <th>Description</th>\n",
       "      <th>Rating</th>\n",
       "      <th>ReviewCount</th>\n",
       "      <th>Url</th>\n",
       "    </tr>\n",
       "  </thead>\n",
       "  <tbody>\n",
       "    <tr>\n",
       "      <th>0</th>\n",
       "      <td>HOLI Freeze Dried Salmon Dog Food Topper - wit...</td>\n",
       "      <td>4.3</td>\n",
       "      <td>206</td>\n",
       "      <td>https://amazon.com/sspa/click?ie=UTF8&amp;spc=MToy...</td>\n",
       "    </tr>\n",
       "    <tr>\n",
       "      <th>1</th>\n",
       "      <td>Blue Buffalo Life Protection Formula Natural A...</td>\n",
       "      <td>4.7</td>\n",
       "      <td>21,746</td>\n",
       "      <td>https://amazon.com/Blue-Buffalo-Protection-For...</td>\n",
       "    </tr>\n",
       "    <tr>\n",
       "      <th>2</th>\n",
       "      <td>Purina Pro Plan High Protein Dog Food With Pro...</td>\n",
       "      <td>4.7</td>\n",
       "      <td>16,618</td>\n",
       "      <td>https://amazon.com/Purina-Pro-Plan-Shredded-Ch...</td>\n",
       "    </tr>\n",
       "    <tr>\n",
       "      <th>3</th>\n",
       "      <td>Purina ONE Natural Dry Dog Food, SmartBlend La...</td>\n",
       "      <td>4.7</td>\n",
       "      <td>13,205</td>\n",
       "      <td>https://amazon.com/Purina-Smartblend-Natural-F...</td>\n",
       "    </tr>\n",
       "    <tr>\n",
       "      <th>4</th>\n",
       "      <td>Royal Canin Small Breed Adult Dry Dog Food, 14...</td>\n",
       "      <td>4.8</td>\n",
       "      <td>9,704</td>\n",
       "      <td>https://amazon.com/Royal-Canin-Health-Nutritio...</td>\n",
       "    </tr>\n",
       "    <tr>\n",
       "      <th>...</th>\n",
       "      <td>...</td>\n",
       "      <td>...</td>\n",
       "      <td>...</td>\n",
       "      <td>...</td>\n",
       "    </tr>\n",
       "    <tr>\n",
       "      <th>645</th>\n",
       "      <td>Purina ONE SmartBlend Natural Healthy Weight F...</td>\n",
       "      <td>4.7</td>\n",
       "      <td>13,596</td>\n",
       "      <td>https://amazon.com/Purina-Smartblend-Natural-H...</td>\n",
       "    </tr>\n",
       "    <tr>\n",
       "      <th>646</th>\n",
       "      <td>Wellness Complete Health Dry Dog Food with Gra...</td>\n",
       "      <td>4.6</td>\n",
       "      <td>7,197</td>\n",
       "      <td>https://amazon.com/Wellness-Complete-Natural-F...</td>\n",
       "    </tr>\n",
       "    <tr>\n",
       "      <th>647</th>\n",
       "      <td>VICTOR Super Premium Dog Food – Hi-Pro Plus Dr...</td>\n",
       "      <td>4.7</td>\n",
       "      <td>9,447</td>\n",
       "      <td>https://amazon.com/VICTOR-Super-Premium-Dog-Fo...</td>\n",
       "    </tr>\n",
       "    <tr>\n",
       "      <th>648</th>\n",
       "      <td>Blue Buffalo Life Protection Formula Natural S...</td>\n",
       "      <td>4.7</td>\n",
       "      <td>8,334</td>\n",
       "      <td>https://amazon.com/Blue-Buffalo-Protection-For...</td>\n",
       "    </tr>\n",
       "    <tr>\n",
       "      <th>649</th>\n",
       "      <td>Blue Buffalo Life Protection Formula Natural P...</td>\n",
       "      <td>4.6</td>\n",
       "      <td>9,918</td>\n",
       "      <td>https://amazon.com/Blue-Buffalo-Protection-For...</td>\n",
       "    </tr>\n",
       "  </tbody>\n",
       "</table>\n",
       "<p>650 rows × 4 columns</p>\n",
       "</div>"
      ],
      "text/plain": [
       "                                           Description Rating ReviewCount  \\\n",
       "0    HOLI Freeze Dried Salmon Dog Food Topper - wit...   4.3          206   \n",
       "1    Blue Buffalo Life Protection Formula Natural A...   4.7       21,746   \n",
       "2    Purina Pro Plan High Protein Dog Food With Pro...   4.7       16,618   \n",
       "3    Purina ONE Natural Dry Dog Food, SmartBlend La...   4.7       13,205   \n",
       "4    Royal Canin Small Breed Adult Dry Dog Food, 14...   4.8        9,704   \n",
       "..                                                 ...    ...         ...   \n",
       "645  Purina ONE SmartBlend Natural Healthy Weight F...   4.7       13,596   \n",
       "646  Wellness Complete Health Dry Dog Food with Gra...   4.6        7,197   \n",
       "647  VICTOR Super Premium Dog Food – Hi-Pro Plus Dr...   4.7        9,447   \n",
       "648  Blue Buffalo Life Protection Formula Natural S...   4.7        8,334   \n",
       "649  Blue Buffalo Life Protection Formula Natural P...   4.6        9,918   \n",
       "\n",
       "                                                   Url  \n",
       "0    https://amazon.com/sspa/click?ie=UTF8&spc=MToy...  \n",
       "1    https://amazon.com/Blue-Buffalo-Protection-For...  \n",
       "2    https://amazon.com/Purina-Pro-Plan-Shredded-Ch...  \n",
       "3    https://amazon.com/Purina-Smartblend-Natural-F...  \n",
       "4    https://amazon.com/Royal-Canin-Health-Nutritio...  \n",
       "..                                                 ...  \n",
       "645  https://amazon.com/Purina-Smartblend-Natural-H...  \n",
       "646  https://amazon.com/Wellness-Complete-Natural-F...  \n",
       "647  https://amazon.com/VICTOR-Super-Premium-Dog-Fo...  \n",
       "648  https://amazon.com/Blue-Buffalo-Protection-For...  \n",
       "649  https://amazon.com/Blue-Buffalo-Protection-For...  \n",
       "\n",
       "[650 rows x 4 columns]"
      ]
     },
     "execution_count": 114,
     "metadata": {},
     "output_type": "execute_result"
    }
   ],
   "source": [
    "df['Description'] = df['Description'].str.replace(\"\\'\", \"\")\n",
    "df['Description'] = df['Description'].str.replace(\"&\", \"\")\n",
    "df['Rating'] = df['Rating'].str.replace(\"out of 5 stars\", \"\")\n",
    "df"
   ]
  },
  {
   "cell_type": "code",
   "execution_count": 115,
   "id": "83183383",
   "metadata": {},
   "outputs": [],
   "source": [
    "from nltk.tokenize import SpaceTokenizer"
   ]
  },
  {
   "cell_type": "code",
   "execution_count": 116,
   "id": "26ed00bb",
   "metadata": {},
   "outputs": [],
   "source": [
    "tk = SpaceTokenizer()\n",
    "br_dog = []\n",
    "words= ['Blue','Buffalo','Purina','Pro','ONE','Plan','Moist','Meaty','Royal','Canin','Diet','Rachael','Ray','Nutrish','Iams']\n",
    "    "
   ]
  },
  {
   "cell_type": "code",
   "execution_count": 117,
   "id": "73087cd4",
   "metadata": {
    "scrolled": true
   },
   "outputs": [],
   "source": [
    "for row in df.index:\n",
    "    dog = df['Description'][row]\n",
    "    \n",
    "    item2 = [\" \".join([w for w in tk.tokenize(dog) if w in words])]\n",
    "    \n",
    "    br_dog.append(item2)"
   ]
  },
  {
   "cell_type": "code",
   "execution_count": 118,
   "id": "2437e6d9",
   "metadata": {},
   "outputs": [],
   "source": [
    "df['Brand'] = pd.DataFrame(br_dog, columns = ['Brand'])"
   ]
  },
  {
   "cell_type": "code",
   "execution_count": 119,
   "id": "64a7463e",
   "metadata": {},
   "outputs": [],
   "source": [
    "df = df.replace(r'^\\s*$', np.nan, regex=True)"
   ]
  },
  {
   "cell_type": "code",
   "execution_count": 120,
   "id": "cec04f6a",
   "metadata": {},
   "outputs": [
    {
     "data": {
      "text/html": [
       "<div>\n",
       "<style scoped>\n",
       "    .dataframe tbody tr th:only-of-type {\n",
       "        vertical-align: middle;\n",
       "    }\n",
       "\n",
       "    .dataframe tbody tr th {\n",
       "        vertical-align: top;\n",
       "    }\n",
       "\n",
       "    .dataframe thead th {\n",
       "        text-align: right;\n",
       "    }\n",
       "</style>\n",
       "<table border=\"1\" class=\"dataframe\">\n",
       "  <thead>\n",
       "    <tr style=\"text-align: right;\">\n",
       "      <th></th>\n",
       "      <th>Rating</th>\n",
       "      <th>ReviewCount</th>\n",
       "      <th>Brand</th>\n",
       "    </tr>\n",
       "  </thead>\n",
       "  <tbody>\n",
       "    <tr>\n",
       "      <th>1</th>\n",
       "      <td>4.7</td>\n",
       "      <td>21,746</td>\n",
       "      <td>Blue Buffalo</td>\n",
       "    </tr>\n",
       "    <tr>\n",
       "      <th>2</th>\n",
       "      <td>4.7</td>\n",
       "      <td>16,618</td>\n",
       "      <td>Purina Pro Plan</td>\n",
       "    </tr>\n",
       "    <tr>\n",
       "      <th>3</th>\n",
       "      <td>4.7</td>\n",
       "      <td>13,205</td>\n",
       "      <td>Purina ONE</td>\n",
       "    </tr>\n",
       "    <tr>\n",
       "      <th>4</th>\n",
       "      <td>4.8</td>\n",
       "      <td>9,704</td>\n",
       "      <td>Royal Canin</td>\n",
       "    </tr>\n",
       "    <tr>\n",
       "      <th>5</th>\n",
       "      <td>4.7</td>\n",
       "      <td>22,273</td>\n",
       "      <td>Purina ONE</td>\n",
       "    </tr>\n",
       "    <tr>\n",
       "      <th>...</th>\n",
       "      <td>...</td>\n",
       "      <td>...</td>\n",
       "      <td>...</td>\n",
       "    </tr>\n",
       "    <tr>\n",
       "      <th>643</th>\n",
       "      <td>4.7</td>\n",
       "      <td>14,480</td>\n",
       "      <td>Purina Pro Plan</td>\n",
       "    </tr>\n",
       "    <tr>\n",
       "      <th>644</th>\n",
       "      <td>4.7</td>\n",
       "      <td>5,768</td>\n",
       "      <td>Purina Pro Plan</td>\n",
       "    </tr>\n",
       "    <tr>\n",
       "      <th>645</th>\n",
       "      <td>4.7</td>\n",
       "      <td>13,596</td>\n",
       "      <td>Purina ONE</td>\n",
       "    </tr>\n",
       "    <tr>\n",
       "      <th>648</th>\n",
       "      <td>4.7</td>\n",
       "      <td>8,334</td>\n",
       "      <td>Blue Buffalo</td>\n",
       "    </tr>\n",
       "    <tr>\n",
       "      <th>649</th>\n",
       "      <td>4.6</td>\n",
       "      <td>9,918</td>\n",
       "      <td>Blue Buffalo</td>\n",
       "    </tr>\n",
       "  </tbody>\n",
       "</table>\n",
       "<p>525 rows × 3 columns</p>\n",
       "</div>"
      ],
      "text/plain": [
       "    Rating ReviewCount            Brand\n",
       "1     4.7       21,746     Blue Buffalo\n",
       "2     4.7       16,618  Purina Pro Plan\n",
       "3     4.7       13,205       Purina ONE\n",
       "4     4.8        9,704      Royal Canin\n",
       "5     4.7       22,273       Purina ONE\n",
       "..     ...         ...              ...\n",
       "643   4.7       14,480  Purina Pro Plan\n",
       "644   4.7        5,768  Purina Pro Plan\n",
       "645   4.7       13,596       Purina ONE\n",
       "648   4.7        8,334     Blue Buffalo\n",
       "649   4.6        9,918     Blue Buffalo\n",
       "\n",
       "[525 rows x 3 columns]"
      ]
     },
     "execution_count": 120,
     "metadata": {},
     "output_type": "execute_result"
    }
   ],
   "source": [
    "df = df.dropna()\n",
    "df = df.drop(['Url','Description'], axis=1)\n",
    "df"
   ]
  },
  {
   "cell_type": "code",
   "execution_count": 121,
   "id": "1b0cd9e4",
   "metadata": {},
   "outputs": [],
   "source": [
    "df = df.reindex(columns=list(df.columns)[::-1])"
   ]
  },
  {
   "cell_type": "code",
   "execution_count": 122,
   "id": "fcafa285",
   "metadata": {},
   "outputs": [
    {
     "data": {
      "text/html": [
       "<div>\n",
       "<style scoped>\n",
       "    .dataframe tbody tr th:only-of-type {\n",
       "        vertical-align: middle;\n",
       "    }\n",
       "\n",
       "    .dataframe tbody tr th {\n",
       "        vertical-align: top;\n",
       "    }\n",
       "\n",
       "    .dataframe thead th {\n",
       "        text-align: right;\n",
       "    }\n",
       "</style>\n",
       "<table border=\"1\" class=\"dataframe\">\n",
       "  <thead>\n",
       "    <tr style=\"text-align: right;\">\n",
       "      <th></th>\n",
       "      <th>Brand</th>\n",
       "      <th>ReviewCount</th>\n",
       "      <th>Rating</th>\n",
       "    </tr>\n",
       "  </thead>\n",
       "  <tbody>\n",
       "    <tr>\n",
       "      <th>292</th>\n",
       "      <td>Blue Buffalo</td>\n",
       "      <td>12,656</td>\n",
       "      <td>4.7</td>\n",
       "    </tr>\n",
       "    <tr>\n",
       "      <th>448</th>\n",
       "      <td>Blue Buffalo</td>\n",
       "      <td>12,656</td>\n",
       "      <td>4.7</td>\n",
       "    </tr>\n",
       "    <tr>\n",
       "      <th>58</th>\n",
       "      <td>Blue Buffalo</td>\n",
       "      <td>12,656</td>\n",
       "      <td>4.7</td>\n",
       "    </tr>\n",
       "    <tr>\n",
       "      <th>318</th>\n",
       "      <td>Blue Buffalo</td>\n",
       "      <td>12,656</td>\n",
       "      <td>4.7</td>\n",
       "    </tr>\n",
       "    <tr>\n",
       "      <th>162</th>\n",
       "      <td>Blue Buffalo</td>\n",
       "      <td>12,656</td>\n",
       "      <td>4.7</td>\n",
       "    </tr>\n",
       "    <tr>\n",
       "      <th>...</th>\n",
       "      <td>...</td>\n",
       "      <td>...</td>\n",
       "      <td>...</td>\n",
       "    </tr>\n",
       "    <tr>\n",
       "      <th>597</th>\n",
       "      <td>Blue Buffalo</td>\n",
       "      <td>9,918</td>\n",
       "      <td>4.6</td>\n",
       "    </tr>\n",
       "    <tr>\n",
       "      <th>155</th>\n",
       "      <td>Blue Buffalo</td>\n",
       "      <td>9,918</td>\n",
       "      <td>4.6</td>\n",
       "    </tr>\n",
       "    <tr>\n",
       "      <th>129</th>\n",
       "      <td>Blue Buffalo</td>\n",
       "      <td>9,918</td>\n",
       "      <td>4.6</td>\n",
       "    </tr>\n",
       "    <tr>\n",
       "      <th>285</th>\n",
       "      <td>Blue Buffalo</td>\n",
       "      <td>9,918</td>\n",
       "      <td>4.6</td>\n",
       "    </tr>\n",
       "    <tr>\n",
       "      <th>649</th>\n",
       "      <td>Blue Buffalo</td>\n",
       "      <td>9,918</td>\n",
       "      <td>4.6</td>\n",
       "    </tr>\n",
       "  </tbody>\n",
       "</table>\n",
       "<p>525 rows × 3 columns</p>\n",
       "</div>"
      ],
      "text/plain": [
       "            Brand ReviewCount Rating\n",
       "292  Blue Buffalo      12,656   4.7 \n",
       "448  Blue Buffalo      12,656   4.7 \n",
       "58   Blue Buffalo      12,656   4.7 \n",
       "318  Blue Buffalo      12,656   4.7 \n",
       "162  Blue Buffalo      12,656   4.7 \n",
       "..            ...         ...    ...\n",
       "597  Blue Buffalo       9,918   4.6 \n",
       "155  Blue Buffalo       9,918   4.6 \n",
       "129  Blue Buffalo       9,918   4.6 \n",
       "285  Blue Buffalo       9,918   4.6 \n",
       "649  Blue Buffalo       9,918   4.6 \n",
       "\n",
       "[525 rows x 3 columns]"
      ]
     },
     "execution_count": 122,
     "metadata": {},
     "output_type": "execute_result"
    }
   ],
   "source": [
    "df.sort_values(by='ReviewCount', ascending=True)"
   ]
  },
  {
   "cell_type": "code",
   "execution_count": 123,
   "id": "74dd4d23",
   "metadata": {},
   "outputs": [],
   "source": [
    "df = df.sort_values(by='Rating', ascending=False)"
   ]
  },
  {
   "cell_type": "code",
   "execution_count": 124,
   "id": "afd89878",
   "metadata": {},
   "outputs": [],
   "source": [
    "df['Brand'] = df['Brand'].str.replace(\"Blue Buffalo Blue\", \"Blue Buffalo\")"
   ]
  },
  {
   "cell_type": "code",
   "execution_count": 125,
   "id": "d17db63e",
   "metadata": {
    "scrolled": true
   },
   "outputs": [
    {
     "data": {
      "text/plain": [
       "Blue Buffalo           150\n",
       "Purina Pro Plan        150\n",
       "Purina ONE             125\n",
       "Rachael Ray Nutrish     50\n",
       "Purina                  25\n",
       "Royal Canin             25\n",
       "Name: Brand, dtype: int64"
      ]
     },
     "execution_count": 125,
     "metadata": {},
     "output_type": "execute_result"
    }
   ],
   "source": [
    "df[\"Brand\"].value_counts()"
   ]
  },
  {
   "cell_type": "code",
   "execution_count": 126,
   "id": "9fc2f33f",
   "metadata": {},
   "outputs": [],
   "source": [
    "df['Rating'] = df['Rating'].astype(float)"
   ]
  },
  {
   "cell_type": "code",
   "execution_count": 127,
   "id": "986242d7",
   "metadata": {},
   "outputs": [
    {
     "data": {
      "text/plain": [
       "Brand           object\n",
       "ReviewCount     object\n",
       "Rating         float64\n",
       "dtype: object"
      ]
     },
     "execution_count": 127,
     "metadata": {},
     "output_type": "execute_result"
    }
   ],
   "source": [
    "df.dtypes"
   ]
  },
  {
   "cell_type": "code",
   "execution_count": 128,
   "id": "8d2ec477",
   "metadata": {},
   "outputs": [],
   "source": [
    "import numpy as np\n",
    "import pandas as pd\n",
    "import matplotlib.pyplot as plt\n",
    "import seaborn as sns\n",
    "import warnings\n",
    "warnings.filterwarnings('ignore')\n",
    "\n",
    "from sklearn.impute import SimpleImputer\n",
    "from sklearn.metrics import accuracy_score\n",
    "from sklearn.preprocessing import LabelEncoder\n",
    "from sklearn.model_selection import StratifiedKFold, train_test_split\n",
    "\n",
    "import plotly.express as px\n",
    "from plotly.subplots import make_subplots\n",
    "import plotly.graph_objects as go\n",
    "\n",
    "PALETTE=['lightcoral', 'lightskyblue', 'gold', 'sandybrown', 'navajowhite',\n",
    "        'khaki', 'lightslategrey', 'turquoise', 'rosybrown', 'thistle', 'pink']\n",
    "sns.set_palette(PALETTE)\n",
    "BACKCOLOR = '#f6f5f5'\n",
    "\n",
    "from IPython.core.display import HTML"
   ]
  },
  {
   "cell_type": "code",
   "execution_count": 131,
   "id": "fa09166c",
   "metadata": {
    "scrolled": true
   },
   "outputs": [
    {
     "data": {
      "image/png": "[encoded data removed]",
      "text/plain": [
       "<Figure size 1800x720 with 1 Axes>"
      ]
     },
     "metadata": {},
     "output_type": "display_data"
    }
   ],
   "source": [
    "plt.subplots(figsize=(25, 10))\n",
    "plt.pie(df.Brand.value_counts(), shadow=True, autopct='%1.1f%%', textprops={'fontsize': 20, 'color': 'white'})\n",
    "plt.title('Brand', size=20)\n",
    "plt.legend(['Blue Buffalo', 'Purina Pro Plan', 'Purina ONE', 'Rachael Ray Nutrish', 'Other Purina'], loc='best', fontsize=12)\n",
    "plt.show()"
   ]
  },
  {
   "cell_type": "code",
   "execution_count": 146,
   "id": "7d26cdc4",
   "metadata": {},
   "outputs": [],
   "source": [
    "cat_totals = df.groupby(\"Brand\")[\"Rating\"].sum().sort_values()"
   ]
  },
  {
   "cell_type": "code",
   "execution_count": 147,
   "id": "2ef43121",
   "metadata": {},
   "outputs": [
    {
     "data": {
      "text/plain": [
       "Brand\n",
       "Purina                 117.5\n",
       "Royal Canin            120.0\n",
       "Rachael Ray Nutrish    232.5\n",
       "Purina ONE             585.0\n",
       "Blue Buffalo           702.5\n",
       "Purina Pro Plan        707.5\n",
       "Name: Rating, dtype: float64"
      ]
     },
     "execution_count": 147,
     "metadata": {},
     "output_type": "execute_result"
    }
   ],
   "source": [
    "cat_totals"
   ]
  },
  {
   "cell_type": "code",
   "execution_count": 164,
   "id": "a57f2232",
   "metadata": {},
   "outputs": [
    {
     "data": {
      "text/plain": [
       "<AxesSubplot:ylabel='Brand'>"
      ]
     },
     "execution_count": 164,
     "metadata": {},
     "output_type": "execute_result"
    },
    {
     "data": {
      "image/png": "[encoded data removed]",
      "text/plain": [
       "<Figure size 432x288 with 1 Axes>"
      ]
     },
     "metadata": {
      "needs_background": "light"
     },
     "output_type": "display_data"
    }
   ],
   "source": [
    "cat_totals.plot(kind=\"barh\", fontsize=13)"
   ]
  },
  {
   "cell_type": "code",
   "execution_count": 152,
   "id": "7f9b131a",
   "metadata": {},
   "outputs": [
    {
     "data": {
      "text/plain": [
       "Brand\n",
       "Rachael Ray Nutrish    4.650000\n",
       "Purina ONE             4.680000\n",
       "Blue Buffalo           4.683333\n",
       "Purina                 4.700000\n",
       "Purina Pro Plan        4.716667\n",
       "Royal Canin            4.800000\n",
       "Name: Rating, dtype: float64"
      ]
     },
     "execution_count": 152,
     "metadata": {},
     "output_type": "execute_result"
    }
   ],
   "source": [
    "cat_avgs = df.groupby(\"Brand\")[\"Rating\"].mean().sort_values()\n",
    "cat_avgs"
   ]
  },
  {
   "cell_type": "code",
   "execution_count": 165,
   "id": "4f17ff20",
   "metadata": {},
   "outputs": [
    {
     "data": {
      "text/plain": [
       "<AxesSubplot:ylabel='Brand'>"
      ]
     },
     "execution_count": 165,
     "metadata": {},
     "output_type": "execute_result"
    },
    {
     "data": {
      "image/png": "[encoded data removed]",
      "text/plain": [
       "<Figure size 432x288 with 1 Axes>"
      ]
     },
     "metadata": {
      "needs_background": "light"
     },
     "output_type": "display_data"
    }
   ],
   "source": [
    "cat_avgs.plot(kind=\"barh\", fontsize=10)"
   ]
  },
  {
   "cell_type": "code",
   "execution_count": null,
   "id": "15b9612d",
   "metadata": {},
   "outputs": [],
   "source": []
  }
 ],
 "metadata": {
  "kernelspec": {
   "display_name": "Python 3",
   "language": "python",
   "name": "python3"
  },
  "language_info": {
   "codemirror_mode": {
    "name": "ipython",
    "version": 3
   },
   "file_extension": ".py",
   "mimetype": "text/x-python",
   "name": "python",
   "nbconvert_exporter": "python",
   "pygments_lexer": "ipython3",
   "version": "3.6.13"
  }
 },
 "nbformat": 4,
 "nbformat_minor": 5
}
