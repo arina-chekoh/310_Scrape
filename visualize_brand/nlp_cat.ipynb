{
 "cells": [
  {
   "cell_type": "code",
   "execution_count": 100,
   "id": "57a489ab",
   "metadata": {},
   "outputs": [],
   "source": [
    "import pandas as pd\n",
    "import numpy as np\n",
    "df = pd.read_csv('cat.csv')"
   ]
  },
  {
   "cell_type": "code",
   "execution_count": 101,
   "id": "fbc9f9f1",
   "metadata": {
    "scrolled": true
   },
   "outputs": [
    {
     "data": {
      "text/html": [
       "<div>\n",
       "<style scoped>\n",
       "    .dataframe tbody tr th:only-of-type {\n",
       "        vertical-align: middle;\n",
       "    }\n",
       "\n",
       "    .dataframe tbody tr th {\n",
       "        vertical-align: top;\n",
       "    }\n",
       "\n",
       "    .dataframe thead th {\n",
       "        text-align: right;\n",
       "    }\n",
       "</style>\n",
       "<table border=\"1\" class=\"dataframe\">\n",
       "  <thead>\n",
       "    <tr style=\"text-align: right;\">\n",
       "      <th></th>\n",
       "      <th>Description</th>\n",
       "      <th>Rating</th>\n",
       "      <th>ReviewCount</th>\n",
       "      <th>Url</th>\n",
       "    </tr>\n",
       "  </thead>\n",
       "  <tbody>\n",
       "    <tr>\n",
       "      <th>0</th>\n",
       "      <td>PETLIBRO Automatic Cat Feeder for Two Cats, 5L...</td>\n",
       "      <td>4.5 out of 5 stars</td>\n",
       "      <td>4.5</td>\n",
       "      <td>https://amazon.com/gp/slredirect/picassoRedire...</td>\n",
       "    </tr>\n",
       "    <tr>\n",
       "      <th>1</th>\n",
       "      <td>QLIFE Automatic Cat Feeders WiFi: 3L Timed Dry...</td>\n",
       "      <td>4.6 out of 5 stars</td>\n",
       "      <td>4.6</td>\n",
       "      <td>https://amazon.com/gp/slredirect/picassoRedire...</td>\n",
       "    </tr>\n",
       "    <tr>\n",
       "      <th>2</th>\n",
       "      <td>Meow Mix Original Choice Dry Cat Food</td>\n",
       "      <td>4.7 out of 5 stars</td>\n",
       "      <td>4.7</td>\n",
       "      <td>https://amazon.com/Meow-Mix-Original-Dry-Food/...</td>\n",
       "    </tr>\n",
       "    <tr>\n",
       "      <th>3</th>\n",
       "      <td>Fancy Feast Purina Wet Cat Food Variety Packs</td>\n",
       "      <td>4.7 out of 5 stars</td>\n",
       "      <td>4.7</td>\n",
       "      <td>https://amazon.com/Purina-Fancy-Feast-Poultry-...</td>\n",
       "    </tr>\n",
       "    <tr>\n",
       "      <th>4</th>\n",
       "      <td>Purina ONE Tender Selects Blend Adult Dry Cat ...</td>\n",
       "      <td>4.8 out of 5 stars</td>\n",
       "      <td>4.8</td>\n",
       "      <td>https://amazon.com/Purina-Tender-Selects-Blend...</td>\n",
       "    </tr>\n",
       "    <tr>\n",
       "      <th>...</th>\n",
       "      <td>...</td>\n",
       "      <td>...</td>\n",
       "      <td>...</td>\n",
       "      <td>...</td>\n",
       "    </tr>\n",
       "    <tr>\n",
       "      <th>1459</th>\n",
       "      <td>Purina Cat Chow High Protein Dry Cat Food, Com...</td>\n",
       "      <td>4.7 out of 5 stars</td>\n",
       "      <td>4.7</td>\n",
       "      <td>https://amazon.com/Purina-Cat-Chow-Complete-Fo...</td>\n",
       "    </tr>\n",
       "    <tr>\n",
       "      <th>1460</th>\n",
       "      <td>Purina Friskies Gravy Wet Cat Food Variety Pac...</td>\n",
       "      <td>4.7 out of 5 stars</td>\n",
       "      <td>4.7</td>\n",
       "      <td>https://amazon.com/Purina-Friskies-Variety-Shr...</td>\n",
       "    </tr>\n",
       "    <tr>\n",
       "      <th>1461</th>\n",
       "      <td>Purina Friskies Wet Cat Food, Shreds With Salm...</td>\n",
       "      <td>4.7 out of 5 stars</td>\n",
       "      <td>4.7</td>\n",
       "      <td>https://amazon.com/Purina-Friskies-Shreds-Salm...</td>\n",
       "    </tr>\n",
       "    <tr>\n",
       "      <th>1462</th>\n",
       "      <td>WOPET Automatic Cat Feeder, 2.4G WiFi Pet Food...</td>\n",
       "      <td>4.4 out of 5 stars</td>\n",
       "      <td>4.4</td>\n",
       "      <td>https://amazon.com/gp/slredirect/picassoRedire...</td>\n",
       "    </tr>\n",
       "    <tr>\n",
       "      <th>1463</th>\n",
       "      <td>KatSupreme Tilted Cat Food Bowls - Elevated Ca...</td>\n",
       "      <td>4.4 out of 5 stars</td>\n",
       "      <td>4.4</td>\n",
       "      <td>https://amazon.com/gp/slredirect/picassoRedire...</td>\n",
       "    </tr>\n",
       "  </tbody>\n",
       "</table>\n",
       "<p>1464 rows × 4 columns</p>\n",
       "</div>"
      ],
      "text/plain": [
       "                                            Description              Rating  \\\n",
       "0     PETLIBRO Automatic Cat Feeder for Two Cats, 5L...  4.5 out of 5 stars   \n",
       "1     QLIFE Automatic Cat Feeders WiFi: 3L Timed Dry...  4.6 out of 5 stars   \n",
       "2                 Meow Mix Original Choice Dry Cat Food  4.7 out of 5 stars   \n",
       "3         Fancy Feast Purina Wet Cat Food Variety Packs  4.7 out of 5 stars   \n",
       "4     Purina ONE Tender Selects Blend Adult Dry Cat ...  4.8 out of 5 stars   \n",
       "...                                                 ...                 ...   \n",
       "1459  Purina Cat Chow High Protein Dry Cat Food, Com...  4.7 out of 5 stars   \n",
       "1460  Purina Friskies Gravy Wet Cat Food Variety Pac...  4.7 out of 5 stars   \n",
       "1461  Purina Friskies Wet Cat Food, Shreds With Salm...  4.7 out of 5 stars   \n",
       "1462  WOPET Automatic Cat Feeder, 2.4G WiFi Pet Food...  4.4 out of 5 stars   \n",
       "1463  KatSupreme Tilted Cat Food Bowls - Elevated Ca...  4.4 out of 5 stars   \n",
       "\n",
       "      ReviewCount                                                Url  \n",
       "0             4.5  https://amazon.com/gp/slredirect/picassoRedire...  \n",
       "1             4.6  https://amazon.com/gp/slredirect/picassoRedire...  \n",
       "2             4.7  https://amazon.com/Meow-Mix-Original-Dry-Food/...  \n",
       "3             4.7  https://amazon.com/Purina-Fancy-Feast-Poultry-...  \n",
       "4             4.8  https://amazon.com/Purina-Tender-Selects-Blend...  \n",
       "...           ...                                                ...  \n",
       "1459          4.7  https://amazon.com/Purina-Cat-Chow-Complete-Fo...  \n",
       "1460          4.7  https://amazon.com/Purina-Friskies-Variety-Shr...  \n",
       "1461          4.7  https://amazon.com/Purina-Friskies-Shreds-Salm...  \n",
       "1462          4.4  https://amazon.com/gp/slredirect/picassoRedire...  \n",
       "1463          4.4  https://amazon.com/gp/slredirect/picassoRedire...  \n",
       "\n",
       "[1464 rows x 4 columns]"
      ]
     },
     "execution_count": 101,
     "metadata": {},
     "output_type": "execute_result"
    }
   ],
   "source": [
    "df = pd.DataFrame(df)\n",
    "df"
   ]
  },
  {
   "cell_type": "code",
   "execution_count": 102,
   "id": "97bd5fc0",
   "metadata": {},
   "outputs": [
    {
     "data": {
      "text/html": [
       "<div>\n",
       "<style scoped>\n",
       "    .dataframe tbody tr th:only-of-type {\n",
       "        vertical-align: middle;\n",
       "    }\n",
       "\n",
       "    .dataframe tbody tr th {\n",
       "        vertical-align: top;\n",
       "    }\n",
       "\n",
       "    .dataframe thead th {\n",
       "        text-align: right;\n",
       "    }\n",
       "</style>\n",
       "<table border=\"1\" class=\"dataframe\">\n",
       "  <thead>\n",
       "    <tr style=\"text-align: right;\">\n",
       "      <th></th>\n",
       "      <th>Description</th>\n",
       "      <th>Rating</th>\n",
       "      <th>ReviewCount</th>\n",
       "      <th>Url</th>\n",
       "    </tr>\n",
       "  </thead>\n",
       "  <tbody>\n",
       "    <tr>\n",
       "      <th>0</th>\n",
       "      <td>PETLIBRO Automatic Cat Feeder for Two Cats, 5L...</td>\n",
       "      <td>4.5</td>\n",
       "      <td>4.5</td>\n",
       "      <td>https://amazon.com/gp/slredirect/picassoRedire...</td>\n",
       "    </tr>\n",
       "    <tr>\n",
       "      <th>1</th>\n",
       "      <td>QLIFE Automatic Cat Feeders WiFi: 3L Timed Dry...</td>\n",
       "      <td>4.6</td>\n",
       "      <td>4.6</td>\n",
       "      <td>https://amazon.com/gp/slredirect/picassoRedire...</td>\n",
       "    </tr>\n",
       "    <tr>\n",
       "      <th>2</th>\n",
       "      <td>Meow Mix Original Choice Dry Cat Food</td>\n",
       "      <td>4.7</td>\n",
       "      <td>4.7</td>\n",
       "      <td>https://amazon.com/Meow-Mix-Original-Dry-Food/...</td>\n",
       "    </tr>\n",
       "    <tr>\n",
       "      <th>3</th>\n",
       "      <td>Fancy Feast Purina Wet Cat Food Variety Packs</td>\n",
       "      <td>4.7</td>\n",
       "      <td>4.7</td>\n",
       "      <td>https://amazon.com/Purina-Fancy-Feast-Poultry-...</td>\n",
       "    </tr>\n",
       "    <tr>\n",
       "      <th>4</th>\n",
       "      <td>Purina ONE Tender Selects Blend Adult Dry Cat ...</td>\n",
       "      <td>4.8</td>\n",
       "      <td>4.8</td>\n",
       "      <td>https://amazon.com/Purina-Tender-Selects-Blend...</td>\n",
       "    </tr>\n",
       "    <tr>\n",
       "      <th>...</th>\n",
       "      <td>...</td>\n",
       "      <td>...</td>\n",
       "      <td>...</td>\n",
       "      <td>...</td>\n",
       "    </tr>\n",
       "    <tr>\n",
       "      <th>1459</th>\n",
       "      <td>Purina Cat Chow High Protein Dry Cat Food, Com...</td>\n",
       "      <td>4.7</td>\n",
       "      <td>4.7</td>\n",
       "      <td>https://amazon.com/Purina-Cat-Chow-Complete-Fo...</td>\n",
       "    </tr>\n",
       "    <tr>\n",
       "      <th>1460</th>\n",
       "      <td>Purina Friskies Gravy Wet Cat Food Variety Pac...</td>\n",
       "      <td>4.7</td>\n",
       "      <td>4.7</td>\n",
       "      <td>https://amazon.com/Purina-Friskies-Variety-Shr...</td>\n",
       "    </tr>\n",
       "    <tr>\n",
       "      <th>1461</th>\n",
       "      <td>Purina Friskies Wet Cat Food, Shreds With Salm...</td>\n",
       "      <td>4.7</td>\n",
       "      <td>4.7</td>\n",
       "      <td>https://amazon.com/Purina-Friskies-Shreds-Salm...</td>\n",
       "    </tr>\n",
       "    <tr>\n",
       "      <th>1462</th>\n",
       "      <td>WOPET Automatic Cat Feeder, 2.4G WiFi Pet Food...</td>\n",
       "      <td>4.4</td>\n",
       "      <td>4.4</td>\n",
       "      <td>https://amazon.com/gp/slredirect/picassoRedire...</td>\n",
       "    </tr>\n",
       "    <tr>\n",
       "      <th>1463</th>\n",
       "      <td>KatSupreme Tilted Cat Food Bowls - Elevated Ca...</td>\n",
       "      <td>4.4</td>\n",
       "      <td>4.4</td>\n",
       "      <td>https://amazon.com/gp/slredirect/picassoRedire...</td>\n",
       "    </tr>\n",
       "  </tbody>\n",
       "</table>\n",
       "<p>1464 rows × 4 columns</p>\n",
       "</div>"
      ],
      "text/plain": [
       "                                            Description Rating  ReviewCount  \\\n",
       "0     PETLIBRO Automatic Cat Feeder for Two Cats, 5L...   4.5           4.5   \n",
       "1     QLIFE Automatic Cat Feeders WiFi: 3L Timed Dry...   4.6           4.6   \n",
       "2                 Meow Mix Original Choice Dry Cat Food   4.7           4.7   \n",
       "3         Fancy Feast Purina Wet Cat Food Variety Packs   4.7           4.7   \n",
       "4     Purina ONE Tender Selects Blend Adult Dry Cat ...   4.8           4.8   \n",
       "...                                                 ...    ...          ...   \n",
       "1459  Purina Cat Chow High Protein Dry Cat Food, Com...   4.7           4.7   \n",
       "1460  Purina Friskies Gravy Wet Cat Food Variety Pac...   4.7           4.7   \n",
       "1461  Purina Friskies Wet Cat Food, Shreds With Salm...   4.7           4.7   \n",
       "1462  WOPET Automatic Cat Feeder, 2.4G WiFi Pet Food...   4.4           4.4   \n",
       "1463  KatSupreme Tilted Cat Food Bowls - Elevated Ca...   4.4           4.4   \n",
       "\n",
       "                                                    Url  \n",
       "0     https://amazon.com/gp/slredirect/picassoRedire...  \n",
       "1     https://amazon.com/gp/slredirect/picassoRedire...  \n",
       "2     https://amazon.com/Meow-Mix-Original-Dry-Food/...  \n",
       "3     https://amazon.com/Purina-Fancy-Feast-Poultry-...  \n",
       "4     https://amazon.com/Purina-Tender-Selects-Blend...  \n",
       "...                                                 ...  \n",
       "1459  https://amazon.com/Purina-Cat-Chow-Complete-Fo...  \n",
       "1460  https://amazon.com/Purina-Friskies-Variety-Shr...  \n",
       "1461  https://amazon.com/Purina-Friskies-Shreds-Salm...  \n",
       "1462  https://amazon.com/gp/slredirect/picassoRedire...  \n",
       "1463  https://amazon.com/gp/slredirect/picassoRedire...  \n",
       "\n",
       "[1464 rows x 4 columns]"
      ]
     },
     "execution_count": 102,
     "metadata": {},
     "output_type": "execute_result"
    }
   ],
   "source": [
    "df['Description'] = df['Description'].str.replace(\"\\'\", \"\")\n",
    "df['Description'] = df['Description'].str.replace(\"\\''\", \"\")\n",
    "df['Rating'] = df['Rating'].str.replace(\"out of 5 stars\", \"\")\n",
    "df"
   ]
  },
  {
   "cell_type": "code",
   "execution_count": 103,
   "id": "83183383",
   "metadata": {},
   "outputs": [],
   "source": [
    "from nltk.tokenize import SpaceTokenizer"
   ]
  },
  {
   "cell_type": "code",
   "execution_count": 104,
   "id": "26ed00bb",
   "metadata": {},
   "outputs": [],
   "source": [
    "tk = SpaceTokenizer()\n",
    "br_cat = []\n",
    "words= ['Blue','Buffalo','Purina','ONE','Chow','Friskies','Meow','Mix','Iams','Fancy','Feast','Beyond','Iams','Hills','Science', 'Diet']\n",
    "    "
   ]
  },
  {
   "cell_type": "code",
   "execution_count": 105,
   "id": "73087cd4",
   "metadata": {
    "scrolled": true
   },
   "outputs": [],
   "source": [
    "for row in df.index:\n",
    "    cat = df['Description'][row]\n",
    "    \n",
    "    item2 = [\" \".join([w for w in tk.tokenize(cat) if w in words])]\n",
    "    \n",
    "    br_cat.append(item2)"
   ]
  },
  {
   "cell_type": "code",
   "execution_count": 106,
   "id": "2437e6d9",
   "metadata": {},
   "outputs": [],
   "source": [
    "df['Brand'] = pd.DataFrame(br_cat, columns = ['Brand'])"
   ]
  },
  {
   "cell_type": "code",
   "execution_count": 107,
   "id": "64a7463e",
   "metadata": {},
   "outputs": [],
   "source": [
    "df = df.replace(r'^\\s*$', np.nan, regex=True)"
   ]
  },
  {
   "cell_type": "code",
   "execution_count": 108,
   "id": "cec04f6a",
   "metadata": {},
   "outputs": [
    {
     "data": {
      "text/html": [
       "<div>\n",
       "<style scoped>\n",
       "    .dataframe tbody tr th:only-of-type {\n",
       "        vertical-align: middle;\n",
       "    }\n",
       "\n",
       "    .dataframe tbody tr th {\n",
       "        vertical-align: top;\n",
       "    }\n",
       "\n",
       "    .dataframe thead th {\n",
       "        text-align: right;\n",
       "    }\n",
       "</style>\n",
       "<table border=\"1\" class=\"dataframe\">\n",
       "  <thead>\n",
       "    <tr style=\"text-align: right;\">\n",
       "      <th></th>\n",
       "      <th>Rating</th>\n",
       "      <th>ReviewCount</th>\n",
       "      <th>Brand</th>\n",
       "    </tr>\n",
       "  </thead>\n",
       "  <tbody>\n",
       "    <tr>\n",
       "      <th>2</th>\n",
       "      <td>4.7</td>\n",
       "      <td>4.7</td>\n",
       "      <td>Meow Mix</td>\n",
       "    </tr>\n",
       "    <tr>\n",
       "      <th>3</th>\n",
       "      <td>4.7</td>\n",
       "      <td>4.7</td>\n",
       "      <td>Fancy Feast Purina</td>\n",
       "    </tr>\n",
       "    <tr>\n",
       "      <th>4</th>\n",
       "      <td>4.8</td>\n",
       "      <td>4.8</td>\n",
       "      <td>Purina ONE</td>\n",
       "    </tr>\n",
       "    <tr>\n",
       "      <th>5</th>\n",
       "      <td>4.7</td>\n",
       "      <td>4.7</td>\n",
       "      <td>Purina Friskies</td>\n",
       "    </tr>\n",
       "    <tr>\n",
       "      <th>6</th>\n",
       "      <td>4.7</td>\n",
       "      <td>4.7</td>\n",
       "      <td>Fancy Feast Purina</td>\n",
       "    </tr>\n",
       "    <tr>\n",
       "      <th>...</th>\n",
       "      <td>...</td>\n",
       "      <td>...</td>\n",
       "      <td>...</td>\n",
       "    </tr>\n",
       "    <tr>\n",
       "      <th>1457</th>\n",
       "      <td>4.7</td>\n",
       "      <td>4.7</td>\n",
       "      <td>Blue Buffalo</td>\n",
       "    </tr>\n",
       "    <tr>\n",
       "      <th>1458</th>\n",
       "      <td>4.5</td>\n",
       "      <td>4.5</td>\n",
       "      <td>Friskies Purina</td>\n",
       "    </tr>\n",
       "    <tr>\n",
       "      <th>1459</th>\n",
       "      <td>4.7</td>\n",
       "      <td>4.7</td>\n",
       "      <td>Purina Chow</td>\n",
       "    </tr>\n",
       "    <tr>\n",
       "      <th>1460</th>\n",
       "      <td>4.7</td>\n",
       "      <td>4.7</td>\n",
       "      <td>Purina Friskies</td>\n",
       "    </tr>\n",
       "    <tr>\n",
       "      <th>1461</th>\n",
       "      <td>4.7</td>\n",
       "      <td>4.7</td>\n",
       "      <td>Purina Friskies</td>\n",
       "    </tr>\n",
       "  </tbody>\n",
       "</table>\n",
       "<p>952 rows × 3 columns</p>\n",
       "</div>"
      ],
      "text/plain": [
       "     Rating  ReviewCount               Brand\n",
       "2      4.7           4.7            Meow Mix\n",
       "3      4.7           4.7  Fancy Feast Purina\n",
       "4      4.8           4.8          Purina ONE\n",
       "5      4.7           4.7     Purina Friskies\n",
       "6      4.7           4.7  Fancy Feast Purina\n",
       "...     ...          ...                 ...\n",
       "1457   4.7           4.7        Blue Buffalo\n",
       "1458   4.5           4.5     Friskies Purina\n",
       "1459   4.7           4.7         Purina Chow\n",
       "1460   4.7           4.7     Purina Friskies\n",
       "1461   4.7           4.7     Purina Friskies\n",
       "\n",
       "[952 rows x 3 columns]"
      ]
     },
     "execution_count": 108,
     "metadata": {},
     "output_type": "execute_result"
    }
   ],
   "source": [
    "df = df.dropna()\n",
    "df = df.drop(['Url','Description'], axis=1)\n",
    "df"
   ]
  },
  {
   "cell_type": "code",
   "execution_count": 109,
   "id": "1b0cd9e4",
   "metadata": {},
   "outputs": [],
   "source": [
    "df = df.reindex(columns=list(df.columns)[::-1])"
   ]
  },
  {
   "cell_type": "code",
   "execution_count": 110,
   "id": "fcafa285",
   "metadata": {},
   "outputs": [
    {
     "data": {
      "text/html": [
       "<div>\n",
       "<style scoped>\n",
       "    .dataframe tbody tr th:only-of-type {\n",
       "        vertical-align: middle;\n",
       "    }\n",
       "\n",
       "    .dataframe tbody tr th {\n",
       "        vertical-align: top;\n",
       "    }\n",
       "\n",
       "    .dataframe thead th {\n",
       "        text-align: right;\n",
       "    }\n",
       "</style>\n",
       "<table border=\"1\" class=\"dataframe\">\n",
       "  <thead>\n",
       "    <tr style=\"text-align: right;\">\n",
       "      <th></th>\n",
       "      <th>Brand</th>\n",
       "      <th>ReviewCount</th>\n",
       "      <th>Rating</th>\n",
       "    </tr>\n",
       "  </thead>\n",
       "  <tbody>\n",
       "    <tr>\n",
       "      <th>772</th>\n",
       "      <td>Purina ONE</td>\n",
       "      <td>4.8</td>\n",
       "      <td>4.8</td>\n",
       "    </tr>\n",
       "    <tr>\n",
       "      <th>592</th>\n",
       "      <td>Purina ONE</td>\n",
       "      <td>4.8</td>\n",
       "      <td>4.8</td>\n",
       "    </tr>\n",
       "    <tr>\n",
       "      <th>610</th>\n",
       "      <td>Purina ONE</td>\n",
       "      <td>4.8</td>\n",
       "      <td>4.8</td>\n",
       "    </tr>\n",
       "    <tr>\n",
       "      <th>1231</th>\n",
       "      <td>Purina ONE</td>\n",
       "      <td>4.8</td>\n",
       "      <td>4.8</td>\n",
       "    </tr>\n",
       "    <tr>\n",
       "      <th>262</th>\n",
       "      <td>Purina ONE</td>\n",
       "      <td>4.8</td>\n",
       "      <td>4.8</td>\n",
       "    </tr>\n",
       "    <tr>\n",
       "      <th>...</th>\n",
       "      <td>...</td>\n",
       "      <td>...</td>\n",
       "      <td>...</td>\n",
       "    </tr>\n",
       "    <tr>\n",
       "      <th>1110</th>\n",
       "      <td>Friskies Purina</td>\n",
       "      <td>4.5</td>\n",
       "      <td>4.5</td>\n",
       "    </tr>\n",
       "    <tr>\n",
       "      <th>990</th>\n",
       "      <td>Friskies Purina</td>\n",
       "      <td>4.5</td>\n",
       "      <td>4.5</td>\n",
       "    </tr>\n",
       "    <tr>\n",
       "      <th>822</th>\n",
       "      <td>Friskies Purina</td>\n",
       "      <td>4.5</td>\n",
       "      <td>4.5</td>\n",
       "    </tr>\n",
       "    <tr>\n",
       "      <th>462</th>\n",
       "      <td>Friskies Purina</td>\n",
       "      <td>4.5</td>\n",
       "      <td>4.5</td>\n",
       "    </tr>\n",
       "    <tr>\n",
       "      <th>1220</th>\n",
       "      <td>Friskies Purina</td>\n",
       "      <td>4.5</td>\n",
       "      <td>4.5</td>\n",
       "    </tr>\n",
       "  </tbody>\n",
       "</table>\n",
       "<p>952 rows × 3 columns</p>\n",
       "</div>"
      ],
      "text/plain": [
       "                Brand  ReviewCount Rating\n",
       "772        Purina ONE          4.8   4.8 \n",
       "592        Purina ONE          4.8   4.8 \n",
       "610        Purina ONE          4.8   4.8 \n",
       "1231       Purina ONE          4.8   4.8 \n",
       "262        Purina ONE          4.8   4.8 \n",
       "...               ...          ...    ...\n",
       "1110  Friskies Purina          4.5   4.5 \n",
       "990   Friskies Purina          4.5   4.5 \n",
       "822   Friskies Purina          4.5   4.5 \n",
       "462   Friskies Purina          4.5   4.5 \n",
       "1220  Friskies Purina          4.5   4.5 \n",
       "\n",
       "[952 rows x 3 columns]"
      ]
     },
     "execution_count": 110,
     "metadata": {},
     "output_type": "execute_result"
    }
   ],
   "source": [
    "df.sort_values(by='ReviewCount', ascending=False)"
   ]
  },
  {
   "cell_type": "code",
   "execution_count": 111,
   "id": "74dd4d23",
   "metadata": {},
   "outputs": [],
   "source": [
    "df = df.sort_values(by='Rating', ascending=False)"
   ]
  },
  {
   "cell_type": "code",
   "execution_count": 112,
   "id": "afd89878",
   "metadata": {},
   "outputs": [],
   "source": [
    "df['Brand'] = df['Brand'].str.replace(\"Purina Chow\", \"Purina Cat Chow\")\n",
    "df['Brand'] = df['Brand'].str.replace(\"Fancy Feast Purina\", \"Purina Fancy Feast\")\n",
    "df['Brand'] = df['Brand'].str.replace(\"Purina Fancy Feast Feast\", \"Purina Fancy Feast\")\n",
    "df['Brand'] = df['Brand'].str.replace(\"Fancy Feast Purina Feast\", \"Purina Fancy Feast\")\n",
    "df['Brand'] = df['Brand'].str.replace(\"Friskies\", \"Purina Friskies\")\n",
    "df['Brand'] = df['Brand'].str.replace(\"Purina Purina Friskies\", \"Purina Friskies\")\n",
    "df['Brand'] = df['Brand'].str.replace(\"Purina Friskies Purina\", \"Purina Friskies\")"
   ]
  },
  {
   "cell_type": "code",
   "execution_count": 113,
   "id": "d17db63e",
   "metadata": {},
   "outputs": [
    {
     "data": {
      "text/plain": [
       "Purina Friskies       250\n",
       "Purina Fancy Feast    175\n",
       "Hills Science Diet    175\n",
       "Purina ONE            125\n",
       "Purina Cat Chow       100\n",
       "Meow Mix               50\n",
       "Blue Buffalo           50\n",
       "Purina                 25\n",
       "Iams                    2\n",
       "Name: Brand, dtype: int64"
      ]
     },
     "execution_count": 113,
     "metadata": {},
     "output_type": "execute_result"
    }
   ],
   "source": [
    "df[\"Brand\"].value_counts()"
   ]
  },
  {
   "cell_type": "code",
   "execution_count": 114,
   "id": "986242d7",
   "metadata": {},
   "outputs": [
    {
     "data": {
      "text/plain": [
       "Brand           object\n",
       "ReviewCount    float64\n",
       "Rating          object\n",
       "dtype: object"
      ]
     },
     "execution_count": 114,
     "metadata": {},
     "output_type": "execute_result"
    }
   ],
   "source": [
    "df.dtypes"
   ]
  },
  {
   "cell_type": "code",
   "execution_count": 115,
   "id": "8d2ec477",
   "metadata": {},
   "outputs": [],
   "source": [
    "import numpy as np\n",
    "import pandas as pd\n",
    "import matplotlib.pyplot as plt\n",
    "import seaborn as sns\n",
    "import warnings\n",
    "warnings.filterwarnings('ignore')\n",
    "\n",
    "from sklearn.impute import SimpleImputer\n",
    "from sklearn.metrics import accuracy_score\n",
    "from sklearn.preprocessing import LabelEncoder\n",
    "from sklearn.model_selection import StratifiedKFold, train_test_split\n",
    "\n",
    "import plotly.express as px\n",
    "from plotly.subplots import make_subplots\n",
    "import plotly.graph_objects as go\n",
    "\n",
    "PALETTE=['lightcoral', 'lightskyblue', 'gold', 'sandybrown', 'navajowhite',\n",
    "        'khaki', 'lightslategrey', 'turquoise', 'rosybrown', 'thistle', 'pink']\n",
    "sns.set_palette(PALETTE)\n",
    "BACKCOLOR = '#f6f5f5'\n",
    "\n",
    "from IPython.core.display import HTML"
   ]
  },
  {
   "cell_type": "code",
   "execution_count": 141,
   "id": "fa09166c",
   "metadata": {
    "scrolled": true
   },
   "outputs": [
    {
     "data": {
      "image/png": "[encoded data removed]",
      "text/plain": [
       "<Figure size 1800x720 with 1 Axes>"
      ]
     },
     "metadata": {},
     "output_type": "display_data"
    }
   ],
   "source": [
    "plt.subplots(figsize=(25, 10))\n",
    "plt.pie(df.Brand.value_counts().nlargest(6), shadow=True, autopct='%1.1f%%', textprops={'fontsize': 20, 'color': 'white'})\n",
    "plt.title('Brand', size=20)\n",
    "plt.legend(['Purina Friskies', 'Hills Science Diet', 'Purina Fancy Feast', 'Purina ONE', 'Purina Cat Chow', 'Meow Mix'], loc='best', fontsize=12)\n",
    "plt.show()"
   ]
  },
  {
   "cell_type": "code",
   "execution_count": 119,
   "id": "1a4abbed",
   "metadata": {},
   "outputs": [],
   "source": [
    "df['Rating'] = df['Rating'].astype(float)"
   ]
  },
  {
   "cell_type": "code",
   "execution_count": 120,
   "id": "91688452",
   "metadata": {},
   "outputs": [],
   "source": [
    "cat_totals = df.groupby(\"Brand\")[\"Rating\"].sum().sort_values()"
   ]
  },
  {
   "cell_type": "code",
   "execution_count": 121,
   "id": "f054d370",
   "metadata": {},
   "outputs": [
    {
     "data": {
      "text/plain": [
       "Brand\n",
       "Iams                     9.6\n",
       "Purina                 115.0\n",
       "Meow Mix               232.5\n",
       "Blue Buffalo           237.5\n",
       "Purina Cat Chow        475.0\n",
       "Purina ONE             595.0\n",
       "Hills Science Diet     822.5\n",
       "Purina Fancy Feast     822.5\n",
       "Purina Friskies       1170.0\n",
       "Name: Rating, dtype: float64"
      ]
     },
     "execution_count": 121,
     "metadata": {},
     "output_type": "execute_result"
    }
   ],
   "source": [
    "cat_totals"
   ]
  },
  {
   "cell_type": "code",
   "execution_count": 122,
   "id": "bcc7f47b",
   "metadata": {},
   "outputs": [
    {
     "data": {
      "text/plain": [
       "<AxesSubplot:ylabel='Brand'>"
      ]
     },
     "execution_count": 122,
     "metadata": {},
     "output_type": "execute_result"
    },
    {
     "data": {
      "image/png": "[encoded data removed]",
      "text/plain": [
       "<Figure size 432x288 with 1 Axes>"
      ]
     },
     "metadata": {
      "needs_background": "light"
     },
     "output_type": "display_data"
    }
   ],
   "source": [
    "cat_totals.plot(kind=\"barh\", fontsize=15)"
   ]
  },
  {
   "cell_type": "code",
   "execution_count": 123,
   "id": "b32168ed",
   "metadata": {},
   "outputs": [
    {
     "data": {
      "text/plain": [
       "Brand\n",
       "Purina                4.60\n",
       "Meow Mix              4.65\n",
       "Purina Friskies       4.68\n",
       "Hills Science Diet    4.70\n",
       "Purina Fancy Feast    4.70\n",
       "Blue Buffalo          4.75\n",
       "Purina Cat Chow       4.75\n",
       "Purina ONE            4.76\n",
       "Iams                  4.80\n",
       "Name: Rating, dtype: float64"
      ]
     },
     "execution_count": 123,
     "metadata": {},
     "output_type": "execute_result"
    }
   ],
   "source": [
    "cat_avgs = df.groupby(\"Brand\")[\"Rating\"].mean().sort_values()\n",
    "cat_avgs"
   ]
  },
  {
   "cell_type": "code",
   "execution_count": 137,
   "id": "4005e07b",
   "metadata": {},
   "outputs": [
    {
     "data": {
      "text/plain": [
       "<AxesSubplot:ylabel='Brand'>"
      ]
     },
     "execution_count": 137,
     "metadata": {},
     "output_type": "execute_result"
    },
    {
     "data": {
      "image/png": "[encoded data removed]",
      "text/plain": [
       "<Figure size 432x288 with 1 Axes>"
      ]
     },
     "metadata": {
      "needs_background": "light"
     },
     "output_type": "display_data"
    }
   ],
   "source": [
    "cat_avgs.plot(kind=\"barh\", fontsize=10)"
   ]
  },
  {
   "cell_type": "code",
   "execution_count": null,
   "id": "53fafac1",
   "metadata": {},
   "outputs": [],
   "source": []
  }
 ],
 "metadata": {
  "kernelspec": {
   "display_name": "Python 3",
   "language": "python",
   "name": "python3"
  },
  "language_info": {
   "codemirror_mode": {
    "name": "ipython",
    "version": 3
   },
   "file_extension": ".py",
   "mimetype": "text/x-python",
   "name": "python",
   "nbconvert_exporter": "python",
   "pygments_lexer": "ipython3",
   "version": "3.6.13"
  }
 },
 "nbformat": 4,
 "nbformat_minor": 5
}
