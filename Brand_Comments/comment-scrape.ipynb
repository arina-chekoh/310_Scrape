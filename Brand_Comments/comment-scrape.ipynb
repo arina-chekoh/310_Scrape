{
 "cells": [
  {
   "cell_type": "markdown",
   "id": "e2f11b0e-168c-42ba-94c3-93b1462cda27",
   "metadata": {},
   "source": [
    "### Upload File to RawData"
   ]
  },
  {
   "cell_type": "code",
   "execution_count": 1,
   "id": "3e8a79b0-2ac7-4ddd-9e46-b5f88c334f7e",
   "metadata": {},
   "outputs": [],
   "source": [
    "from dsmlibrary.datanode import DataNode"
   ]
  },
  {
   "cell_type": "code",
   "execution_count": 2,
   "id": "7e59025b-fa8c-4d95-b772-f6f012d8a047",
   "metadata": {},
   "outputs": [],
   "source": [
    "dir_raw_id = 76"
   ]
  },
  {
   "cell_type": "code",
   "execution_count": 3,
   "id": "3235d32e-036a-4581-b163-7b7eaa8f1cc4",
   "metadata": {},
   "outputs": [
    {
     "name": "stdout",
     "output_type": "stream",
     "text": [
      "Init DataNode sucessful!\n"
     ]
    }
   ],
   "source": [
    "datanode = DataNode()"
   ]
  },
  {
   "cell_type": "code",
   "execution_count": 4,
   "id": "9b517aa0-e589-4061-a755-b8d24eacbb41",
   "metadata": {},
   "outputs": [
    {
     "data": {
      "application/vnd.jupyter.widget-view+json": {
       "model_id": "8ab670c4294c451f8b44b124205a7d65",
       "version_major": 2,
       "version_minor": 0
      },
      "text/plain": [
       "  0%|          | 0.00/83.8k [00:00<?, ?B/s]"
      ]
     },
     "metadata": {},
     "output_type": "display_data"
    },
    {
     "data": {
      "text/plain": [
       "{'id': 990,\n",
       " 'msg': 'file Comment_Blue_Buffalo.csv create sucessful',\n",
       " 'path': 'arina/DSI310-13/RawData/Comment_Blue_Buffalo.csv',\n",
       " 'uploaded': True}"
      ]
     },
     "execution_count": 4,
     "metadata": {},
     "output_type": "execute_result"
    }
   ],
   "source": [
    "datanode.upload_file(directory_id=dir_raw_id, file_path='Comment_Blue_Buffalo.csv')"
   ]
  },
  {
   "cell_type": "code",
   "execution_count": 5,
   "id": "050c8817-64ce-4df0-8106-427b8e33dbbb",
   "metadata": {},
   "outputs": [
    {
     "data": {
      "application/vnd.jupyter.widget-view+json": {
       "model_id": "3530737f7c594bfead4e74f2e861083e",
       "version_major": 2,
       "version_minor": 0
      },
      "text/plain": [
       "  0%|          | 0.00/97.0k [00:00<?, ?B/s]"
      ]
     },
     "metadata": {},
     "output_type": "display_data"
    },
    {
     "data": {
      "text/plain": [
       "{'id': 991,\n",
       " 'msg': 'file Comment_Purina_Pro.csv create sucessful',\n",
       " 'path': 'arina/DSI310-13/RawData/Comment_Purina_Pro.csv',\n",
       " 'uploaded': True}"
      ]
     },
     "execution_count": 5,
     "metadata": {},
     "output_type": "execute_result"
    }
   ],
   "source": [
    "datanode.upload_file(directory_id=dir_raw_id, file_path='Comment_Purina_Pro.csv')"
   ]
  },
  {
   "cell_type": "markdown",
   "id": "8cbe3419-2744-4904-9e2b-06b35c3d1d1b",
   "metadata": {},
   "source": [
    "## Read stored data from DataPlatform"
   ]
  },
  {
   "cell_type": "code",
   "execution_count": 6,
   "id": "bb9c1be6-ba88-4c11-b0a1-17f8c42f106d",
   "metadata": {},
   "outputs": [],
   "source": [
    "from dsmlibrary.datanode import DataNode\n",
    "import pandas as pd"
   ]
  },
  {
   "cell_type": "code",
   "execution_count": 7,
   "id": "c6ddc414-b1b3-4774-984a-68b8d7f347f3",
   "metadata": {},
   "outputs": [],
   "source": [
    "dir_raw_id = 76\n",
    "dir_process_id = 77"
   ]
  },
  {
   "cell_type": "code",
   "execution_count": 8,
   "id": "f71c804d-ac97-4920-9f9b-91e35e8069d0",
   "metadata": {},
   "outputs": [],
   "source": [
    "meta_purina = datanode.get_file(datanode.get_file_id(directory_id=dir_raw_id, name='Comment_Purina_Pro.csv'))\n",
    "meta_blue = datanode.get_file(datanode.get_file_id(directory_id=dir_raw_id, name='Comment_Blue_Buffalo.csv'))"
   ]
  },
  {
   "cell_type": "code",
   "execution_count": 18,
   "id": "c75dcd0a-6b4c-4c5c-ac67-8972667dd01e",
   "metadata": {},
   "outputs": [],
   "source": [
    "Blue = pd.read_csv('Comment_Blue_Buffalo.csv')\n",
    "Purina = pd.read_csv('Comment_Purina_Pro.csv')\n",
    "data = pd.concat([Blue, Purina], axis=0)"
   ]
  },
  {
   "cell_type": "code",
   "execution_count": 19,
   "id": "5c73c506-b6f6-4bd5-8037-a8f34318619c",
   "metadata": {},
   "outputs": [
    {
     "data": {
      "text/html": [
       "<div>\n",
       "<style scoped>\n",
       "    .dataframe tbody tr th:only-of-type {\n",
       "        vertical-align: middle;\n",
       "    }\n",
       "\n",
       "    .dataframe tbody tr th {\n",
       "        vertical-align: top;\n",
       "    }\n",
       "\n",
       "    .dataframe thead th {\n",
       "        text-align: right;\n",
       "    }\n",
       "</style>\n",
       "<table border=\"1\" class=\"dataframe\">\n",
       "  <thead>\n",
       "    <tr style=\"text-align: right;\">\n",
       "      <th></th>\n",
       "      <th>Unnamed: 0</th>\n",
       "      <th>Review</th>\n",
       "      <th>Detail</th>\n",
       "    </tr>\n",
       "  </thead>\n",
       "  <tbody>\n",
       "    <tr>\n",
       "      <th>0</th>\n",
       "      <td>0</td>\n",
       "      <td>My dogs love it - but currently out of stock</td>\n",
       "      <td>Yes and yes! Both my border collie and Chihuah...</td>\n",
       "    </tr>\n",
       "    <tr>\n",
       "      <th>1</th>\n",
       "      <td>1</td>\n",
       "      <td>I've not had problems with this food</td>\n",
       "      <td>I've had no problems with this brand of BB dog...</td>\n",
       "    </tr>\n",
       "    <tr>\n",
       "      <th>2</th>\n",
       "      <td>2</td>\n",
       "      <td>Inconsistent quality</td>\n",
       "      <td>My dog has been eating this dog food for 10 ye...</td>\n",
       "    </tr>\n",
       "    <tr>\n",
       "      <th>3</th>\n",
       "      <td>3</td>\n",
       "      <td>My dog loves it!</td>\n",
       "      <td>My dogs have been eating this a few years now ...</td>\n",
       "    </tr>\n",
       "    <tr>\n",
       "      <th>4</th>\n",
       "      <td>4</td>\n",
       "      <td>My dogs love this and they eat it all</td>\n",
       "      <td>My dogs eat anything but I noticed they take t...</td>\n",
       "    </tr>\n",
       "    <tr>\n",
       "      <th>...</th>\n",
       "      <td>...</td>\n",
       "      <td>...</td>\n",
       "      <td>...</td>\n",
       "    </tr>\n",
       "    <tr>\n",
       "      <th>245</th>\n",
       "      <td>245</td>\n",
       "      <td>Good food!</td>\n",
       "      <td>My dog has done really well with this food! I’...</td>\n",
       "    </tr>\n",
       "    <tr>\n",
       "      <th>246</th>\n",
       "      <td>246</td>\n",
       "      <td>Something changed badly</td>\n",
       "      <td>My 4 dogs have been on this for years. We stru...</td>\n",
       "    </tr>\n",
       "    <tr>\n",
       "      <th>247</th>\n",
       "      <td>247</td>\n",
       "      <td>Quality product</td>\n",
       "      <td>My breeder actually recommended this food and ...</td>\n",
       "    </tr>\n",
       "    <tr>\n",
       "      <th>248</th>\n",
       "      <td>248</td>\n",
       "      <td>My dog loved it!</td>\n",
       "      <td>My dog loved this food. She ate it and had no ...</td>\n",
       "    </tr>\n",
       "    <tr>\n",
       "      <th>249</th>\n",
       "      <td>249</td>\n",
       "      <td>which is a lot better than the stuff he used t...</td>\n",
       "      <td>My boy loves this food, which is a lot better ...</td>\n",
       "    </tr>\n",
       "  </tbody>\n",
       "</table>\n",
       "<p>504 rows × 3 columns</p>\n",
       "</div>"
      ],
      "text/plain": [
       "     Unnamed: 0                                             Review  \\\n",
       "0             0       My dogs love it - but currently out of stock   \n",
       "1             1               I've not had problems with this food   \n",
       "2             2                               Inconsistent quality   \n",
       "3             3                                   My dog loves it!   \n",
       "4             4              My dogs love this and they eat it all   \n",
       "..          ...                                                ...   \n",
       "245         245                                         Good food!   \n",
       "246         246                            Something changed badly   \n",
       "247         247                                    Quality product   \n",
       "248         248                                   My dog loved it!   \n",
       "249         249  which is a lot better than the stuff he used t...   \n",
       "\n",
       "                                                Detail  \n",
       "0    Yes and yes! Both my border collie and Chihuah...  \n",
       "1    I've had no problems with this brand of BB dog...  \n",
       "2    My dog has been eating this dog food for 10 ye...  \n",
       "3    My dogs have been eating this a few years now ...  \n",
       "4    My dogs eat anything but I noticed they take t...  \n",
       "..                                                 ...  \n",
       "245  My dog has done really well with this food! I’...  \n",
       "246  My 4 dogs have been on this for years. We stru...  \n",
       "247  My breeder actually recommended this food and ...  \n",
       "248  My dog loved this food. She ate it and had no ...  \n",
       "249  My boy loves this food, which is a lot better ...  \n",
       "\n",
       "[504 rows x 3 columns]"
      ]
     },
     "execution_count": 19,
     "metadata": {},
     "output_type": "execute_result"
    }
   ],
   "source": [
    "data"
   ]
  },
  {
   "cell_type": "code",
   "execution_count": 20,
   "id": "c1d30d0c-e24e-4864-95d0-cb2efcc46bdf",
   "metadata": {},
   "outputs": [
    {
     "data": {
      "text/html": [
       "<div>\n",
       "<style scoped>\n",
       "    .dataframe tbody tr th:only-of-type {\n",
       "        vertical-align: middle;\n",
       "    }\n",
       "\n",
       "    .dataframe tbody tr th {\n",
       "        vertical-align: top;\n",
       "    }\n",
       "\n",
       "    .dataframe thead th {\n",
       "        text-align: right;\n",
       "    }\n",
       "</style>\n",
       "<table border=\"1\" class=\"dataframe\">\n",
       "  <thead>\n",
       "    <tr style=\"text-align: right;\">\n",
       "      <th></th>\n",
       "      <th>Review</th>\n",
       "      <th>Detail</th>\n",
       "    </tr>\n",
       "  </thead>\n",
       "  <tbody>\n",
       "    <tr>\n",
       "      <th>0</th>\n",
       "      <td>My dogs love it - but currently out of stock</td>\n",
       "      <td>Yes and yes! Both my border collie and Chihuah...</td>\n",
       "    </tr>\n",
       "    <tr>\n",
       "      <th>1</th>\n",
       "      <td>I've not had problems with this food</td>\n",
       "      <td>I've had no problems with this brand of BB dog...</td>\n",
       "    </tr>\n",
       "    <tr>\n",
       "      <th>2</th>\n",
       "      <td>Inconsistent quality</td>\n",
       "      <td>My dog has been eating this dog food for 10 ye...</td>\n",
       "    </tr>\n",
       "    <tr>\n",
       "      <th>3</th>\n",
       "      <td>My dog loves it!</td>\n",
       "      <td>My dogs have been eating this a few years now ...</td>\n",
       "    </tr>\n",
       "    <tr>\n",
       "      <th>4</th>\n",
       "      <td>My dogs love this and they eat it all</td>\n",
       "      <td>My dogs eat anything but I noticed they take t...</td>\n",
       "    </tr>\n",
       "    <tr>\n",
       "      <th>...</th>\n",
       "      <td>...</td>\n",
       "      <td>...</td>\n",
       "    </tr>\n",
       "    <tr>\n",
       "      <th>245</th>\n",
       "      <td>Good food!</td>\n",
       "      <td>My dog has done really well with this food! I’...</td>\n",
       "    </tr>\n",
       "    <tr>\n",
       "      <th>246</th>\n",
       "      <td>Something changed badly</td>\n",
       "      <td>My 4 dogs have been on this for years. We stru...</td>\n",
       "    </tr>\n",
       "    <tr>\n",
       "      <th>247</th>\n",
       "      <td>Quality product</td>\n",
       "      <td>My breeder actually recommended this food and ...</td>\n",
       "    </tr>\n",
       "    <tr>\n",
       "      <th>248</th>\n",
       "      <td>My dog loved it!</td>\n",
       "      <td>My dog loved this food. She ate it and had no ...</td>\n",
       "    </tr>\n",
       "    <tr>\n",
       "      <th>249</th>\n",
       "      <td>which is a lot better than the stuff he used t...</td>\n",
       "      <td>My boy loves this food, which is a lot better ...</td>\n",
       "    </tr>\n",
       "  </tbody>\n",
       "</table>\n",
       "<p>504 rows × 2 columns</p>\n",
       "</div>"
      ],
      "text/plain": [
       "                                                Review  \\\n",
       "0         My dogs love it - but currently out of stock   \n",
       "1                 I've not had problems with this food   \n",
       "2                                 Inconsistent quality   \n",
       "3                                     My dog loves it!   \n",
       "4                My dogs love this and they eat it all   \n",
       "..                                                 ...   \n",
       "245                                         Good food!   \n",
       "246                            Something changed badly   \n",
       "247                                    Quality product   \n",
       "248                                   My dog loved it!   \n",
       "249  which is a lot better than the stuff he used t...   \n",
       "\n",
       "                                                Detail  \n",
       "0    Yes and yes! Both my border collie and Chihuah...  \n",
       "1    I've had no problems with this brand of BB dog...  \n",
       "2    My dog has been eating this dog food for 10 ye...  \n",
       "3    My dogs have been eating this a few years now ...  \n",
       "4    My dogs eat anything but I noticed they take t...  \n",
       "..                                                 ...  \n",
       "245  My dog has done really well with this food! I’...  \n",
       "246  My 4 dogs have been on this for years. We stru...  \n",
       "247  My breeder actually recommended this food and ...  \n",
       "248  My dog loved this food. She ate it and had no ...  \n",
       "249  My boy loves this food, which is a lot better ...  \n",
       "\n",
       "[504 rows x 2 columns]"
      ]
     },
     "execution_count": 20,
     "metadata": {},
     "output_type": "execute_result"
    }
   ],
   "source": [
    "data = data.drop(['Unnamed: 0'], axis=1)\n",
    "data"
   ]
  },
  {
   "cell_type": "markdown",
   "id": "ce0f8d53-aacb-4850-ad35-6a0b83d1844a",
   "metadata": {},
   "source": [
    "### Rename Columns"
   ]
  },
  {
   "cell_type": "code",
   "execution_count": 22,
   "id": "488547a1-1254-4ef7-a2a6-963fe116d674",
   "metadata": {},
   "outputs": [],
   "source": [
    "df = pd.DataFrame(data)"
   ]
  },
  {
   "cell_type": "code",
   "execution_count": 23,
   "id": "661ed0d9-fc1b-416c-8d44-0d5ae7e2fd64",
   "metadata": {},
   "outputs": [],
   "source": [
    "df = df.rename(columns = {'Review' : 'Review_Header'})\n",
    "df = df.rename(columns = {'Detail' : 'Review_Detail'})"
   ]
  },
  {
   "cell_type": "code",
   "execution_count": 24,
   "id": "16b7dbba-df88-41ca-a9ec-0ec175a96984",
   "metadata": {},
   "outputs": [
    {
     "data": {
      "text/plain": [
       "Review_Header    object\n",
       "Review_Detail    object\n",
       "dtype: object"
      ]
     },
     "execution_count": 24,
     "metadata": {},
     "output_type": "execute_result"
    }
   ],
   "source": [
    "df.dtypes"
   ]
  },
  {
   "cell_type": "code",
   "execution_count": 27,
   "id": "9db02b24-031c-4bcf-9e30-4017f0128313",
   "metadata": {},
   "outputs": [
    {
     "data": {
      "text/plain": [
       "Review_Header    4\n",
       "Review_Detail    0\n",
       "dtype: int64"
      ]
     },
     "execution_count": 27,
     "metadata": {},
     "output_type": "execute_result"
    }
   ],
   "source": [
    "df.isna().sum()"
   ]
  },
  {
   "cell_type": "code",
   "execution_count": 30,
   "id": "7fef9a51-9593-432a-bcc5-275980d7f5f1",
   "metadata": {},
   "outputs": [
    {
     "data": {
      "text/plain": [
       "Review_Header    0\n",
       "Review_Detail    0\n",
       "dtype: int64"
      ]
     },
     "execution_count": 30,
     "metadata": {},
     "output_type": "execute_result"
    }
   ],
   "source": [
    "df = df.dropna()\n",
    "df.isna().sum()"
   ]
  },
  {
   "cell_type": "code",
   "execution_count": 31,
   "id": "d70fb20f-11ea-4071-9823-9ae76a5adf9b",
   "metadata": {},
   "outputs": [],
   "source": [
    "df.to_csv('Brand-Comments.csv', index=False)"
   ]
  },
  {
   "cell_type": "markdown",
   "id": "c56866b5-3cd3-4eeb-8586-cfd3dbf0a7f6",
   "metadata": {},
   "source": [
    "### write DataNode to DataPlatform"
   ]
  },
  {
   "cell_type": "code",
   "execution_count": 33,
   "id": "86ecaf8c-5e62-4f07-83f7-896f028677dc",
   "metadata": {},
   "outputs": [
    {
     "data": {
      "application/vnd.jupyter.widget-view+json": {
       "model_id": "91de136a60dd4a84b8f38e4030b25432",
       "version_major": 2,
       "version_minor": 0
      },
      "text/plain": [
       "  0%|          | 0.00/177k [00:00<?, ?B/s]"
      ]
     },
     "metadata": {},
     "output_type": "display_data"
    },
    {
     "data": {
      "text/plain": [
       "{'id': 993,\n",
       " 'msg': 'file Brand-Comments.csv create sucessful',\n",
       " 'path': 'arina/DSI310-13/RawData/Brand-Comments.csv',\n",
       " 'uploaded': True}"
      ]
     },
     "execution_count": 33,
     "metadata": {},
     "output_type": "execute_result"
    }
   ],
   "source": [
    "datanode.upload_file(directory_id=dir_raw_id, file_path='Brand-Comments.csv')"
   ]
  },
  {
   "cell_type": "code",
   "execution_count": 34,
   "id": "057438b0-f581-4557-9f78-0fa9a2082732",
   "metadata": {},
   "outputs": [
    {
     "data": {
      "text/plain": [
       "{'sucess': True,\n",
       " 'file_id': 994,\n",
       " 'path': 'arina/DSI310-13/ProcessData/Amazon-Brand-Comments-Scraping.parquet',\n",
       " 'lineage': True}"
      ]
     },
     "execution_count": 34,
     "metadata": {},
     "output_type": "execute_result"
    }
   ],
   "source": [
    "datanode.write(df=df, directory=dir_process_id, name=\"Amazon-Brand-Comments-Scraping\", profiling=True, lineage=[datanode.get_file_id(directory_id=dir_raw_id, name='Brand-Comments.csv')])"
   ]
  },
  {
   "cell_type": "code",
   "execution_count": null,
   "id": "5cc7cfa0-a8b9-4e82-8f5f-377f3be23b52",
   "metadata": {},
   "outputs": [],
   "source": []
  }
 ],
 "metadata": {
  "kernelspec": {
   "display_name": "Python 3 (ipykernel)",
   "language": "python",
   "name": "python3"
  },
  "language_info": {
   "codemirror_mode": {
    "name": "ipython",
    "version": 3
   },
   "file_extension": ".py",
   "mimetype": "text/x-python",
   "name": "python",
   "nbconvert_exporter": "python",
   "pygments_lexer": "ipython3",
   "version": "3.10.5"
  }
 },
 "nbformat": 4,
 "nbformat_minor": 5
}
